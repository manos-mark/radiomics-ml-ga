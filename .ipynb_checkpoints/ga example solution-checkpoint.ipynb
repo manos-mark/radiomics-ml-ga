{
 "cells": [
  {
   "cell_type": "code",
   "execution_count": 4,
   "metadata": {},
   "outputs": [],
   "source": [
    "# https://github.com/PacktPublishing/Hands-On-Genetic-Algorithms-with-Python/blob/master/Chapter07/02-solve-zoo.py\n",
    "import random\n",
    "\n",
    "from pandas import read_csv\n",
    "from sklearn import model_selection\n",
    "from sklearn.preprocessing import MinMaxScaler\n",
    "from xgboost import XGBClassifier\n",
    "import os\n",
    "import pandas as pd\n",
    "\n",
    "from deap import base\n",
    "from deap import creator\n",
    "from deap import tools\n",
    "\n",
    "import random\n",
    "import numpy\n",
    "\n",
    "import matplotlib.pyplot as plt\n",
    "import seaborn as sns\n",
    "\n",
    "# import elitism"
   ]
  },
  {
   "cell_type": "code",
   "execution_count": 5,
   "metadata": {},
   "outputs": [],
   "source": [
    "class Radiomics:\n",
    "    \"\"\"This class encapsulates the Friedman1 test for a regressor\n",
    "    \"\"\"\n",
    "\n",
    "    DATASET_URL = os.path.join(os.getcwd(), 'dataset', 'dataset.csv')\n",
    "    LABELS_URL = os.path.join(os.getcwd(), 'dataset', 'radiogenomics_labels.csv')\n",
    "    NUM_FOLDS = 5\n",
    "    \n",
    "    def __init__(self, randomSeed):\n",
    "        \"\"\"\n",
    "        :param randomSeed: random seed value used for reproducible results\n",
    "        \"\"\"\n",
    "        self.randomSeed = randomSeed\n",
    "        \n",
    "        # read the dataset\n",
    "        self.data = read_csv(self.DATASET_URL)\n",
    "        self.radiogenomic_labels = read_csv(self.LABELS_URL)\n",
    "        \n",
    "        self.data_preprocessing()\n",
    "\n",
    "        # split the data, creating a group of training/validation sets to be used in the k-fold validation process:\n",
    "        self.kfold = model_selection.KFold(n_splits=self.NUM_FOLDS, random_state=self.randomSeed)\n",
    "\n",
    "        self.classifier = XGBClassifier(random_state=self.randomSeed)\n",
    "\n",
    "    def __len__(self):\n",
    "        \"\"\"\n",
    "        :return: the total number of features used in this classification problem\n",
    "        \"\"\"\n",
    "        return self.X.shape[1]\n",
    "\n",
    "    def getMeanAccuracy(self, zeroOneList):\n",
    "        \"\"\"\n",
    "        returns the mean accuracy measure of the calssifier, calculated using k-fold validation process,\n",
    "        using the features selected by the zeroOneList\n",
    "        :param zeroOneList: a list of binary values corresponding the features in the dataset. A value of '1'\n",
    "        represents selecting the corresponding feature, while a value of '0' means that the feature is dropped.\n",
    "        :return: the mean accuracy measure of the calssifier when using the features selected by the zeroOneList\n",
    "        \"\"\"\n",
    "\n",
    "        # drop the dataset columns that correspond to the unselected features:\n",
    "        zeroIndices = [i for i, n in enumerate(zeroOneList) if n == 0]\n",
    "        currentX = self.X.drop(self.X.columns[zeroIndices], axis=1)\n",
    "\n",
    "        # perform k-fold validation and determine the accuracy measure of the classifier:\n",
    "        cv_results = model_selection.cross_val_score(self.classifier, currentX, self.y, cv=self.kfold, scoring='accuracy')\n",
    "\n",
    "        # return mean accuracy:\n",
    "        return cv_results.mean()\n",
    "\n",
    "    def data_preprocessing(self):\n",
    "        self.data['Case ID'] = None\n",
    "\n",
    "        for i, image in enumerate(self.data['Image']):\n",
    "            self.data.loc[i, 'Case ID'] = image.split('.')[0]\n",
    "\n",
    "        self.data = pd.merge(self.data, self.radiogenomic_labels[['Case ID', 'Survival Status']], left_on='Case ID', right_on='Case ID', how='left')\n",
    "\n",
    "        self.data.drop(['Mask', 'Image', 'Case ID'], axis=1, inplace=True)\n",
    "        self.data.dropna(inplace=True)\n",
    "\n",
    "        # separate to input features and resulting category (last column):\n",
    "        self.X = self.data.iloc[:, :-1]\n",
    "        self.y = self.data.iloc[:, -1]\n",
    "\n",
    "        self.y.replace({'Alive': 1, 'Dead': 0}, inplace=True)\n",
    "\n",
    "        scaler = MinMaxScaler()\n",
    "        self.X = pd.DataFrame(scaler.fit_transform(self.X))\n",
    "\n",
    "        self.X.columns = self.X.columns"
   ]
  },
  {
   "cell_type": "code",
   "execution_count": 6,
   "metadata": {},
   "outputs": [],
   "source": [
    "# Genetic Algorithm constants:\n",
    "POPULATION_SIZE = 50\n",
    "P_CROSSOVER = 0.9  # probability for crossover\n",
    "P_MUTATION = 0.2   # probability for mutating an individual\n",
    "MAX_GENERATIONS = 50\n",
    "HALL_OF_FAME_SIZE = 5\n",
    "\n",
    "FEATURE_PENALTY_FACTOR = 0.001\n",
    "\n",
    "# set the random seed:\n",
    "RANDOM_SEED = 42\n",
    "random.seed(RANDOM_SEED)"
   ]
  },
  {
   "cell_type": "code",
   "execution_count": 7,
   "metadata": {},
   "outputs": [
    {
     "name": "stderr",
     "output_type": "stream",
     "text": [
      "/home/manos/anaconda3/lib/python3.7/site-packages/sklearn/model_selection/_split.py:297: FutureWarning: Setting a random_state has no effect since shuffle is False. This will raise an error in 0.24. You should leave random_state to its default (None), or set shuffle=True.\n",
      "  FutureWarning\n"
     ]
    }
   ],
   "source": [
    "radiomics = Radiomics(RANDOM_SEED)"
   ]
  },
  {
   "cell_type": "code",
   "execution_count": 9,
   "metadata": {},
   "outputs": [
    {
     "name": "stderr",
     "output_type": "stream",
     "text": [
      "/home/manos/anaconda3/lib/python3.7/site-packages/deap/creator.py:141: RuntimeWarning: A class named 'FitnessMax' has already been created and it will be overwritten. Consider deleting previous creation of that class or rename it.\n",
      "  RuntimeWarning)\n",
      "/home/manos/anaconda3/lib/python3.7/site-packages/deap/creator.py:141: RuntimeWarning: A class named 'Individual' has already been created and it will be overwritten. Consider deleting previous creation of that class or rename it.\n",
      "  RuntimeWarning)\n"
     ]
    }
   ],
   "source": [
    "toolbox = base.Toolbox()\n",
    "\n",
    "# define a single objective, maximizing fitness strategy:\n",
    "creator.create(\"FitnessMax\", base.Fitness, weights=(1.0,))\n",
    "\n",
    "# create the Individual class based on list:\n",
    "creator.create(\"Individual\", list, fitness=creator.FitnessMax)\n",
    "\n",
    "# create an operator that randomly returns 0 or 1:\n",
    "toolbox.register(\"zeroOrOne\", random.randint, 0, 1)\n",
    "\n",
    "# create the individual operator to fill up an Individual instance:\n",
    "toolbox.register(\"individualCreator\", tools.initRepeat, creator.Individual, toolbox.zeroOrOne, len(radiomics))\n",
    "\n",
    "# create the population operator to generate a list of individuals:\n",
    "toolbox.register(\"populationCreator\", tools.initRepeat, list, toolbox.individualCreator)"
   ]
  },
  {
   "cell_type": "code",
   "execution_count": 10,
   "metadata": {},
   "outputs": [],
   "source": [
    "# fitness calculation\n",
    "def radiomicsClassificationAccuracy(individual):\n",
    "    numFeaturesUsed = sum(individual)\n",
    "    if numFeaturesUsed == 0:\n",
    "        return 0.0,\n",
    "    else:\n",
    "        accuracy = radiomics.getMeanAccuracy(individual)\n",
    "        return accuracy - FEATURE_PENALTY_FACTOR * numFeaturesUsed,  # return a tuple"
   ]
  },
  {
   "cell_type": "code",
   "execution_count": 11,
   "metadata": {},
   "outputs": [],
   "source": [
    "toolbox.register(\"evaluate\", radiomicsClassificationAccuracy)\n",
    "\n",
    "# genetic operators:mutFlipBit\n",
    "\n",
    "# Tournament selection with tournament size of 2:\n",
    "toolbox.register(\"select\", tools.selTournament, tournsize=2)\n",
    "\n",
    "# Single-point crossover:\n",
    "toolbox.register(\"mate\", tools.cxTwoPoint)\n",
    "\n",
    "# Flip-bit mutation:\n",
    "# indpb: Independent probability for each attribute to be flipped\n",
    "toolbox.register(\"mutate\", tools.mutFlipBit, indpb=1.0/len(radiomics))"
   ]
  },
  {
   "cell_type": "code",
   "execution_count": 12,
   "metadata": {},
   "outputs": [
    {
     "ename": "NameError",
     "evalue": "name 'elitism' is not defined",
     "output_type": "error",
     "traceback": [
      "\u001b[0;31m---------------------------------------------------------------------------\u001b[0m",
      "\u001b[0;31mNameError\u001b[0m                                 Traceback (most recent call last)",
      "\u001b[0;32m<ipython-input-12-f9549ad76459>\u001b[0m in \u001b[0;36m<module>\u001b[0;34m\u001b[0m\n\u001b[1;32m     37\u001b[0m \u001b[0;34m\u001b[0m\u001b[0m\n\u001b[1;32m     38\u001b[0m \u001b[0;32mif\u001b[0m \u001b[0m__name__\u001b[0m \u001b[0;34m==\u001b[0m \u001b[0;34m\"__main__\"\u001b[0m\u001b[0;34m:\u001b[0m\u001b[0;34m\u001b[0m\u001b[0;34m\u001b[0m\u001b[0m\n\u001b[0;32m---> 39\u001b[0;31m     \u001b[0mmain\u001b[0m\u001b[0;34m(\u001b[0m\u001b[0;34m)\u001b[0m\u001b[0;34m\u001b[0m\u001b[0;34m\u001b[0m\u001b[0m\n\u001b[0m",
      "\u001b[0;32m<ipython-input-12-f9549ad76459>\u001b[0m in \u001b[0;36mmain\u001b[0;34m()\u001b[0m\n\u001b[1;32m     14\u001b[0m \u001b[0;34m\u001b[0m\u001b[0m\n\u001b[1;32m     15\u001b[0m     \u001b[0;31m# perform the Genetic Algorithm flow with hof feature added:\u001b[0m\u001b[0;34m\u001b[0m\u001b[0;34m\u001b[0m\u001b[0;34m\u001b[0m\u001b[0m\n\u001b[0;32m---> 16\u001b[0;31m     population, logbook = elitism.eaSimpleWithElitism(population, toolbox, cxpb=P_CROSSOVER, mutpb=P_MUTATION,\n\u001b[0m\u001b[1;32m     17\u001b[0m                                                       ngen=MAX_GENERATIONS, stats=stats, halloffame=hof, verbose=True)\n\u001b[1;32m     18\u001b[0m \u001b[0;34m\u001b[0m\u001b[0m\n",
      "\u001b[0;31mNameError\u001b[0m: name 'elitism' is not defined"
     ]
    }
   ],
   "source": [
    "# Genetic Algorithm flow:\n",
    "def main():\n",
    "\n",
    "    # create initial population (generation 0):\n",
    "    population = toolbox.populationCreator(n=POPULATION_SIZE)\n",
    "\n",
    "    # prepare the statistics object:\n",
    "    stats = tools.Statistics(lambda ind: ind.fitness.values)\n",
    "    stats.register(\"max\", numpy.max)\n",
    "    stats.register(\"avg\", numpy.mean)\n",
    "\n",
    "    # define the hall-of-fame object:\n",
    "    hof = tools.HallOfFame(HALL_OF_FAME_SIZE)\n",
    "\n",
    "    # perform the Genetic Algorithm flow with hof feature added:\n",
    "    population, logbook = elitism.eaSimpleWithElitism(population, toolbox, cxpb=P_CROSSOVER, mutpb=P_MUTATION,\n",
    "                                                      ngen=MAX_GENERATIONS, stats=stats, halloffame=hof, verbose=True)\n",
    "\n",
    "    # print best solution found:\n",
    "    print(\"- Best solutions are:\")\n",
    "    for i in range(HALL_OF_FAME_SIZE):\n",
    "        print(i, \": \", hof.items[i], \", fitness = \", hof.items[i].fitness.values[0],\n",
    "              \", accuracy = \", radiomics.getMeanAccuracy(hof.items[i]), \", features = \", sum(hof.items[i]))\n",
    "\n",
    "    # extract statistics:\n",
    "    maxFitnessValues, meanFitnessValues = logbook.select(\"max\", \"avg\")\n",
    "\n",
    "    # plot statistics:\n",
    "    sns.set_style(\"whitegrid\")\n",
    "    plt.plot(maxFitnessValues, color='red')\n",
    "    plt.plot(meanFitnessValues, color='green')\n",
    "    plt.xlabel('Generation')\n",
    "    plt.ylabel('Max / Average Fitness')\n",
    "    plt.title('Max and Average fitness over Generations')\n",
    "    plt.show()\n",
    "\n",
    "\n",
    "if __name__ == \"__main__\":\n",
    "    main()"
   ]
  },
  {
   "cell_type": "code",
   "execution_count": null,
   "metadata": {},
   "outputs": [],
   "source": []
  }
 ],
 "metadata": {
  "kernelspec": {
   "display_name": "Python 3",
   "language": "python",
   "name": "python3"
  },
  "language_info": {
   "codemirror_mode": {
    "name": "ipython",
    "version": 3
   },
   "file_extension": ".py",
   "mimetype": "text/x-python",
   "name": "python",
   "nbconvert_exporter": "python",
   "pygments_lexer": "ipython3",
   "version": "3.7.6"
  }
 },
 "nbformat": 4,
 "nbformat_minor": 4
}
