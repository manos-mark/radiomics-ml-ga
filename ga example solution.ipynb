{
 "cells": [
  {
   "cell_type": "code",
   "execution_count": 15,
   "metadata": {},
   "outputs": [],
   "source": [
    "# https://github.com/PacktPublishing/Hands-On-Genetic-Algorithms-with-Python/blob/master/Chapter07/02-solve-zoo.py\n",
    "import random\n",
    "\n",
    "from pandas import read_csv\n",
    "from sklearn import model_selection\n",
    "from sklearn.preprocessing import MinMaxScaler\n",
    "from xgboost import XGBClassifier\n",
    "import os\n",
    "import pandas as pd\n",
    "\n",
    "from deap import base\n",
    "from deap import creator\n",
    "from deap import tools\n",
    "\n",
    "import random\n",
    "import numpy\n",
    "\n",
    "import matplotlib.pyplot as plt\n",
    "import seaborn as sns\n",
    "\n",
    "import elitism\n",
    "import radiomics"
   ]
  },
  {
   "cell_type": "code",
   "execution_count": 16,
   "metadata": {},
   "outputs": [],
   "source": [
    "# Genetic Algorithm constants:\n",
    "POPULATION_SIZE = 50\n",
    "P_CROSSOVER = 0.9  # probability for crossover\n",
    "P_MUTATION = 0.2   # probability for mutating an individual\n",
    "MAX_GENERATIONS = 50\n",
    "HALL_OF_FAME_SIZE = 5\n",
    "\n",
    "FEATURE_PENALTY_FACTOR = 0.001\n",
    "\n",
    "# set the random seed:\n",
    "RANDOM_SEED = 42\n",
    "random.seed(RANDOM_SEED)"
   ]
  },
  {
   "cell_type": "code",
   "execution_count": 17,
   "metadata": {},
   "outputs": [
    {
     "name": "stderr",
     "output_type": "stream",
     "text": [
      "/home/manos/anaconda3/lib/python3.7/site-packages/sklearn/model_selection/_split.py:297: FutureWarning: Setting a random_state has no effect since shuffle is False. This will raise an error in 0.24. You should leave random_state to its default (None), or set shuffle=True.\n",
      "  FutureWarning\n"
     ]
    }
   ],
   "source": [
    "rad = radiomics.Radiomics(RANDOM_SEED)"
   ]
  },
  {
   "cell_type": "code",
   "execution_count": 18,
   "metadata": {},
   "outputs": [
    {
     "name": "stderr",
     "output_type": "stream",
     "text": [
      "/home/manos/anaconda3/lib/python3.7/site-packages/deap/creator.py:141: RuntimeWarning: A class named 'FitnessMax' has already been created and it will be overwritten. Consider deleting previous creation of that class or rename it.\n",
      "  RuntimeWarning)\n",
      "/home/manos/anaconda3/lib/python3.7/site-packages/deap/creator.py:141: RuntimeWarning: A class named 'Individual' has already been created and it will be overwritten. Consider deleting previous creation of that class or rename it.\n",
      "  RuntimeWarning)\n"
     ]
    }
   ],
   "source": [
    "toolbox = base.Toolbox()\n",
    "\n",
    "# define a single objective, maximizing fitness strategy:\n",
    "creator.create(\"FitnessMax\", base.Fitness, weights=(1.0,))\n",
    "\n",
    "# create the Individual class based on list:\n",
    "creator.create(\"Individual\", list, fitness=creator.FitnessMax)\n",
    "\n",
    "# create an operator that randomly returns 0 or 1:\n",
    "toolbox.register(\"zeroOrOne\", random.randint, 0, 1)\n",
    "\n",
    "# create the individual operator to fill up an Individual instance:\n",
    "toolbox.register(\"individualCreator\", tools.initRepeat, creator.Individual, toolbox.zeroOrOne, len(rad))\n",
    "\n",
    "# create the population operator to generate a list of individuals:\n",
    "toolbox.register(\"populationCreator\", tools.initRepeat, list, toolbox.individualCreator)"
   ]
  },
  {
   "cell_type": "code",
   "execution_count": 19,
   "metadata": {},
   "outputs": [],
   "source": [
    "# fitness calculation\n",
    "def radiomicsClassificationAccuracy(individual):\n",
    "    numFeaturesUsed = sum(individual)\n",
    "    if numFeaturesUsed == 0:\n",
    "        return 0.0,\n",
    "    else:\n",
    "        accuracy = rad.getMeanAccuracy(individual)\n",
    "        return accuracy - FEATURE_PENALTY_FACTOR * numFeaturesUsed,  # return a tuple"
   ]
  },
  {
   "cell_type": "code",
   "execution_count": 20,
   "metadata": {},
   "outputs": [],
   "source": [
    "toolbox.register(\"evaluate\", radiomicsClassificationAccuracy)\n",
    "\n",
    "# genetic operators:mutFlipBit\n",
    "\n",
    "# Tournament selection with tournament size of 2:\n",
    "toolbox.register(\"select\", tools.selTournament, tournsize=2)\n",
    "\n",
    "# Single-point crossover:\n",
    "toolbox.register(\"mate\", tools.cxTwoPoint)\n",
    "\n",
    "# Flip-bit mutation:\n",
    "# indpb: Independent probability for each attribute to be flipped\n",
    "toolbox.register(\"mutate\", tools.mutFlipBit, indpb=1.0/len(rad))"
   ]
  },
  {
   "cell_type": "code",
   "execution_count": null,
   "metadata": {},
   "outputs": [
    {
     "name": "stdout",
     "output_type": "stream",
     "text": [
      "gen\tnevals\tmax       \tavg      \n",
      "0  \t50    \t-0.0498621\t-0.123468\n",
      "1  \t41    \t-0.0498621\t-0.103133\n",
      "2  \t42    \t-0.0498621\t-0.091014\n",
      "3  \t37    \t-0.0391084\t-0.0833715\n",
      "4  \t36    \t-0.0353547\t-0.0773343\n",
      "5  \t42    \t0.00415271\t-0.0703147\n",
      "6  \t40    \t0.00415271\t-0.06257  \n",
      "7  \t40    \t0.0205025 \t-0.046303 \n",
      "8  \t43    \t0.0205025 \t-0.0426445\n",
      "9  \t41    \t0.0205025 \t-0.0240414\n",
      "10 \t37    \t0.0210099 \t-0.0107153\n",
      "11 \t40    \t0.0365419 \t-0.00345852\n",
      "12 \t39    \t0.0435419 \t0.00460374 \n",
      "13 \t44    \t0.0558276 \t0.0171971  \n",
      "14 \t35    \t0.0558276 \t0.025832   \n",
      "15 \t39    \t0.0775172 \t0.0338061  \n",
      "16 \t35    \t0.0775172 \t0.0400872  \n",
      "17 \t36    \t0.0785172 \t0.0441161  \n",
      "18 \t42    \t0.0785172 \t0.0504106  \n",
      "19 \t40    \t0.0785172 \t0.0533278  \n",
      "20 \t42    \t0.0805172 \t0.0553379  \n",
      "21 \t44    \t0.0805172 \t0.0630286  \n",
      "22 \t42    \t0.0805172 \t0.0687     \n",
      "23 \t44    \t0.0825172 \t0.0724952  \n",
      "24 \t39    \t0.0825172 \t0.078947   \n",
      "25 \t40    \t0.0845172 \t0.0807506  \n",
      "26 \t42    \t0.0845172 \t0.0801964  \n",
      "27 \t42    \t0.0845172 \t0.0817967  \n",
      "28 \t42    \t0.0855172 \t0.0832585  \n"
     ]
    }
   ],
   "source": [
    "# Genetic Algorithm flow:\n",
    "def main():\n",
    "\n",
    "    # create initial population (generation 0):\n",
    "    population = toolbox.populationCreator(n=POPULATION_SIZE)\n",
    "\n",
    "    # prepare the statistics object:\n",
    "    stats = tools.Statistics(lambda ind: ind.fitness.values)\n",
    "    stats.register(\"max\", numpy.max)\n",
    "    stats.register(\"avg\", numpy.mean)\n",
    "\n",
    "    # define the hall-of-fame object:\n",
    "    hof = tools.HallOfFame(HALL_OF_FAME_SIZE)\n",
    "\n",
    "    # perform the Genetic Algorithm flow with hof feature added:\n",
    "    population, logbook = elitism.eaSimpleWithElitism(population, toolbox, cxpb=P_CROSSOVER, mutpb=P_MUTATION,\n",
    "                                                      ngen=MAX_GENERATIONS, stats=stats, halloffame=hof, verbose=True)\n",
    "\n",
    "    # print best solution found:\n",
    "    print(\"- Best solutions are:\")\n",
    "    for i in range(HALL_OF_FAME_SIZE):\n",
    "        print(i, \": \", hof.items[i], \", fitness = \", hof.items[i].fitness.values[0],\n",
    "              \", accuracy = \", rad.getMeanAccuracy(hof.items[i]), \", features = \", sum(hof.items[i]))\n",
    "\n",
    "    # extract statistics:\n",
    "    maxFitnessValues, meanFitnessValues = logbook.select(\"max\", \"avg\")\n",
    "\n",
    "    # plot statistics:\n",
    "    sns.set_style(\"whitegrid\")\n",
    "    plt.plot(maxFitnessValues, color='red')\n",
    "    plt.plot(meanFitnessValues, color='green')\n",
    "    plt.xlabel('Generation')\n",
    "    plt.ylabel('Max / Average Fitness')\n",
    "    plt.title('Max and Average fitness over Generations')\n",
    "    plt.show()\n",
    "\n",
    "\n",
    "if __name__ == \"__main__\":\n",
    "    main()"
   ]
  },
  {
   "cell_type": "code",
   "execution_count": null,
   "metadata": {},
   "outputs": [],
   "source": []
  }
 ],
 "metadata": {
  "kernelspec": {
   "display_name": "Python 3",
   "language": "python",
   "name": "python3"
  },
  "language_info": {
   "codemirror_mode": {
    "name": "ipython",
    "version": 3
   },
   "file_extension": ".py",
   "mimetype": "text/x-python",
   "name": "python",
   "nbconvert_exporter": "python",
   "pygments_lexer": "ipython3",
   "version": "3.7.6"
  }
 },
 "nbformat": 4,
 "nbformat_minor": 4
}
