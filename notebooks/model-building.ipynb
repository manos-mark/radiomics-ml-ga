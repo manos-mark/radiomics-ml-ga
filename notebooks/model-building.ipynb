{
 "cells": [
  {
   "cell_type": "markdown",
   "metadata": {},
   "source": [
    "## Imports "
   ]
  },
  {
   "cell_type": "code",
   "execution_count": 134,
   "metadata": {},
   "outputs": [],
   "source": [
    "import os \n",
    "import numpy as np\n",
    "import pandas as pd\n",
    "\n",
    "from sklearn.model_selection import train_test_split\n",
    "from sklearn.preprocessing import MinMaxScaler\n",
    "from sklearn.model_selection import cross_val_score"
   ]
  },
  {
   "cell_type": "markdown",
   "metadata": {},
   "source": [
    "## Read the dataset and the radiogenomic data"
   ]
  },
  {
   "cell_type": "code",
   "execution_count": 206,
   "metadata": {},
   "outputs": [
    {
     "data": {
      "text/html": [
       "<div>\n",
       "<style scoped>\n",
       "    .dataframe tbody tr th:only-of-type {\n",
       "        vertical-align: middle;\n",
       "    }\n",
       "\n",
       "    .dataframe tbody tr th {\n",
       "        vertical-align: top;\n",
       "    }\n",
       "\n",
       "    .dataframe thead th {\n",
       "        text-align: right;\n",
       "    }\n",
       "</style>\n",
       "<table border=\"1\" class=\"dataframe\">\n",
       "  <thead>\n",
       "    <tr style=\"text-align: right;\">\n",
       "      <th></th>\n",
       "      <th>Mask</th>\n",
       "      <th>Image</th>\n",
       "      <th>original_shape_VoxelVolume</th>\n",
       "      <th>original_shape_MeshVolume</th>\n",
       "      <th>original_shape_SurfaceArea</th>\n",
       "      <th>original_shape_SurfaceVolumeRatio</th>\n",
       "      <th>original_shape_Sphericity</th>\n",
       "      <th>original_shape_Maximum3DDiameter</th>\n",
       "      <th>original_shape_Maximum2DDiameterSlice</th>\n",
       "      <th>original_shape_Maximum2DDiameterColumn</th>\n",
       "      <th>...</th>\n",
       "      <th>lbp-3D-k_gldm_GrayLevelNonUniformity</th>\n",
       "      <th>lbp-3D-k_gldm_GrayLevelVariance</th>\n",
       "      <th>lbp-3D-k_gldm_HighGrayLevelEmphasis</th>\n",
       "      <th>lbp-3D-k_gldm_LargeDependenceEmphasis</th>\n",
       "      <th>lbp-3D-k_gldm_LargeDependenceHighGrayLevelEmphasis</th>\n",
       "      <th>lbp-3D-k_gldm_LargeDependenceLowGrayLevelEmphasis</th>\n",
       "      <th>lbp-3D-k_gldm_LowGrayLevelEmphasis</th>\n",
       "      <th>lbp-3D-k_gldm_SmallDependenceEmphasis</th>\n",
       "      <th>lbp-3D-k_gldm_SmallDependenceHighGrayLevelEmphasis</th>\n",
       "      <th>lbp-3D-k_gldm_SmallDependenceLowGrayLevelEmphasis</th>\n",
       "    </tr>\n",
       "  </thead>\n",
       "  <tbody>\n",
       "    <tr>\n",
       "      <td>0</td>\n",
       "      <td>R01-127_roi.nii</td>\n",
       "      <td>R01-127.nii</td>\n",
       "      <td>6646.222923</td>\n",
       "      <td>6620.933051</td>\n",
       "      <td>3821.238084</td>\n",
       "      <td>0.577145</td>\n",
       "      <td>0.446231</td>\n",
       "      <td>42.351097</td>\n",
       "      <td>41.211769</td>\n",
       "      <td>38.654876</td>\n",
       "      <td>...</td>\n",
       "      <td>17568.232131</td>\n",
       "      <td>0.107344</td>\n",
       "      <td>1.366904</td>\n",
       "      <td>435.038264</td>\n",
       "      <td>447.886326</td>\n",
       "      <td>431.826248</td>\n",
       "      <td>0.908274</td>\n",
       "      <td>0.017466</td>\n",
       "      <td>0.060178</td>\n",
       "      <td>0.006788</td>\n",
       "    </tr>\n",
       "    <tr>\n",
       "      <td>1</td>\n",
       "      <td>R01-064_roi.nii</td>\n",
       "      <td>R01-064.nii</td>\n",
       "      <td>3366.088867</td>\n",
       "      <td>3297.932943</td>\n",
       "      <td>1870.232366</td>\n",
       "      <td>0.567092</td>\n",
       "      <td>0.572906</td>\n",
       "      <td>52.086588</td>\n",
       "      <td>14.925760</td>\n",
       "      <td>51.939907</td>\n",
       "      <td>...</td>\n",
       "      <td>814.020852</td>\n",
       "      <td>0.130997</td>\n",
       "      <td>1.465095</td>\n",
       "      <td>273.110607</td>\n",
       "      <td>297.173164</td>\n",
       "      <td>267.094968</td>\n",
       "      <td>0.883726</td>\n",
       "      <td>0.019400</td>\n",
       "      <td>0.065205</td>\n",
       "      <td>0.007949</td>\n",
       "    </tr>\n",
       "    <tr>\n",
       "      <td>2</td>\n",
       "      <td>R01-118_roi.nii</td>\n",
       "      <td>R01-118.nii</td>\n",
       "      <td>154492.126465</td>\n",
       "      <td>153863.610586</td>\n",
       "      <td>29776.235984</td>\n",
       "      <td>0.193524</td>\n",
       "      <td>0.466342</td>\n",
       "      <td>148.169042</td>\n",
       "      <td>75.007242</td>\n",
       "      <td>146.583008</td>\n",
       "      <td>...</td>\n",
       "      <td>27212.449782</td>\n",
       "      <td>0.174788</td>\n",
       "      <td>1.677255</td>\n",
       "      <td>310.474449</td>\n",
       "      <td>365.343731</td>\n",
       "      <td>296.757129</td>\n",
       "      <td>0.830686</td>\n",
       "      <td>0.015801</td>\n",
       "      <td>0.051458</td>\n",
       "      <td>0.006886</td>\n",
       "    </tr>\n",
       "    <tr>\n",
       "      <td>3</td>\n",
       "      <td>R01-044_roi.nii</td>\n",
       "      <td>R01-044.nii</td>\n",
       "      <td>707.652683</td>\n",
       "      <td>690.997678</td>\n",
       "      <td>1016.191502</td>\n",
       "      <td>1.470615</td>\n",
       "      <td>0.371957</td>\n",
       "      <td>32.898135</td>\n",
       "      <td>30.636614</td>\n",
       "      <td>26.940836</td>\n",
       "      <td>...</td>\n",
       "      <td>1678.344142</td>\n",
       "      <td>0.061102</td>\n",
       "      <td>1.196130</td>\n",
       "      <td>357.702929</td>\n",
       "      <td>361.049686</td>\n",
       "      <td>356.866240</td>\n",
       "      <td>0.950968</td>\n",
       "      <td>0.020960</td>\n",
       "      <td>0.064607</td>\n",
       "      <td>0.010049</td>\n",
       "    </tr>\n",
       "    <tr>\n",
       "      <td>4</td>\n",
       "      <td>R01-024_roi.nii</td>\n",
       "      <td>R01-024.nii</td>\n",
       "      <td>4905.527134</td>\n",
       "      <td>4877.243809</td>\n",
       "      <td>2747.608401</td>\n",
       "      <td>0.563353</td>\n",
       "      <td>0.506188</td>\n",
       "      <td>47.004263</td>\n",
       "      <td>27.938821</td>\n",
       "      <td>30.427050</td>\n",
       "      <td>...</td>\n",
       "      <td>8310.601509</td>\n",
       "      <td>0.143750</td>\n",
       "      <td>1.522119</td>\n",
       "      <td>362.528292</td>\n",
       "      <td>419.715021</td>\n",
       "      <td>348.231610</td>\n",
       "      <td>0.869470</td>\n",
       "      <td>0.011873</td>\n",
       "      <td>0.038674</td>\n",
       "      <td>0.005173</td>\n",
       "    </tr>\n",
       "  </tbody>\n",
       "</table>\n",
       "<p>5 rows × 1564 columns</p>\n",
       "</div>"
      ],
      "text/plain": [
       "              Mask        Image  original_shape_VoxelVolume  \\\n",
       "0  R01-127_roi.nii  R01-127.nii                 6646.222923   \n",
       "1  R01-064_roi.nii  R01-064.nii                 3366.088867   \n",
       "2  R01-118_roi.nii  R01-118.nii               154492.126465   \n",
       "3  R01-044_roi.nii  R01-044.nii                  707.652683   \n",
       "4  R01-024_roi.nii  R01-024.nii                 4905.527134   \n",
       "\n",
       "   original_shape_MeshVolume  original_shape_SurfaceArea  \\\n",
       "0                6620.933051                 3821.238084   \n",
       "1                3297.932943                 1870.232366   \n",
       "2              153863.610586                29776.235984   \n",
       "3                 690.997678                 1016.191502   \n",
       "4                4877.243809                 2747.608401   \n",
       "\n",
       "   original_shape_SurfaceVolumeRatio  original_shape_Sphericity  \\\n",
       "0                           0.577145                   0.446231   \n",
       "1                           0.567092                   0.572906   \n",
       "2                           0.193524                   0.466342   \n",
       "3                           1.470615                   0.371957   \n",
       "4                           0.563353                   0.506188   \n",
       "\n",
       "   original_shape_Maximum3DDiameter  original_shape_Maximum2DDiameterSlice  \\\n",
       "0                         42.351097                              41.211769   \n",
       "1                         52.086588                              14.925760   \n",
       "2                        148.169042                              75.007242   \n",
       "3                         32.898135                              30.636614   \n",
       "4                         47.004263                              27.938821   \n",
       "\n",
       "   original_shape_Maximum2DDiameterColumn  ...  \\\n",
       "0                               38.654876  ...   \n",
       "1                               51.939907  ...   \n",
       "2                              146.583008  ...   \n",
       "3                               26.940836  ...   \n",
       "4                               30.427050  ...   \n",
       "\n",
       "   lbp-3D-k_gldm_GrayLevelNonUniformity  lbp-3D-k_gldm_GrayLevelVariance  \\\n",
       "0                          17568.232131                         0.107344   \n",
       "1                            814.020852                         0.130997   \n",
       "2                          27212.449782                         0.174788   \n",
       "3                           1678.344142                         0.061102   \n",
       "4                           8310.601509                         0.143750   \n",
       "\n",
       "   lbp-3D-k_gldm_HighGrayLevelEmphasis  lbp-3D-k_gldm_LargeDependenceEmphasis  \\\n",
       "0                             1.366904                             435.038264   \n",
       "1                             1.465095                             273.110607   \n",
       "2                             1.677255                             310.474449   \n",
       "3                             1.196130                             357.702929   \n",
       "4                             1.522119                             362.528292   \n",
       "\n",
       "   lbp-3D-k_gldm_LargeDependenceHighGrayLevelEmphasis  \\\n",
       "0                                         447.886326    \n",
       "1                                         297.173164    \n",
       "2                                         365.343731    \n",
       "3                                         361.049686    \n",
       "4                                         419.715021    \n",
       "\n",
       "   lbp-3D-k_gldm_LargeDependenceLowGrayLevelEmphasis  \\\n",
       "0                                         431.826248   \n",
       "1                                         267.094968   \n",
       "2                                         296.757129   \n",
       "3                                         356.866240   \n",
       "4                                         348.231610   \n",
       "\n",
       "   lbp-3D-k_gldm_LowGrayLevelEmphasis  lbp-3D-k_gldm_SmallDependenceEmphasis  \\\n",
       "0                            0.908274                               0.017466   \n",
       "1                            0.883726                               0.019400   \n",
       "2                            0.830686                               0.015801   \n",
       "3                            0.950968                               0.020960   \n",
       "4                            0.869470                               0.011873   \n",
       "\n",
       "   lbp-3D-k_gldm_SmallDependenceHighGrayLevelEmphasis  \\\n",
       "0                                           0.060178    \n",
       "1                                           0.065205    \n",
       "2                                           0.051458    \n",
       "3                                           0.064607    \n",
       "4                                           0.038674    \n",
       "\n",
       "   lbp-3D-k_gldm_SmallDependenceLowGrayLevelEmphasis  \n",
       "0                                           0.006788  \n",
       "1                                           0.007949  \n",
       "2                                           0.006886  \n",
       "3                                           0.010049  \n",
       "4                                           0.005173  \n",
       "\n",
       "[5 rows x 1564 columns]"
      ]
     },
     "execution_count": 206,
     "metadata": {},
     "output_type": "execute_result"
    }
   ],
   "source": [
    "pyradiomics_dataset_path = os.path.join(os.getcwd(), 'dataset', 'dataset.csv')\n",
    "pyradiomics_dataset = pd.read_csv(pyradiomics_dataset_path)\n",
    "pyradiomics_dataset.head()"
   ]
  },
  {
   "cell_type": "code",
   "execution_count": 207,
   "metadata": {},
   "outputs": [
    {
     "data": {
      "text/html": [
       "<div>\n",
       "<style scoped>\n",
       "    .dataframe tbody tr th:only-of-type {\n",
       "        vertical-align: middle;\n",
       "    }\n",
       "\n",
       "    .dataframe tbody tr th {\n",
       "        vertical-align: top;\n",
       "    }\n",
       "\n",
       "    .dataframe thead th {\n",
       "        text-align: right;\n",
       "    }\n",
       "</style>\n",
       "<table border=\"1\" class=\"dataframe\">\n",
       "  <thead>\n",
       "    <tr style=\"text-align: right;\">\n",
       "      <th></th>\n",
       "      <th>Case ID</th>\n",
       "      <th>Patient affiliation</th>\n",
       "      <th>Age at Histological Diagnosis</th>\n",
       "      <th>Weight (lbs)</th>\n",
       "      <th>Gender</th>\n",
       "      <th>Ethnicity</th>\n",
       "      <th>Smoking status</th>\n",
       "      <th>Pack Years</th>\n",
       "      <th>Quit Smoking Year</th>\n",
       "      <th>%GG</th>\n",
       "      <th>...</th>\n",
       "      <th>Recurrence</th>\n",
       "      <th>Recurrence Location</th>\n",
       "      <th>Date of Recurrence</th>\n",
       "      <th>Date of Last Known Alive</th>\n",
       "      <th>Survival Status</th>\n",
       "      <th>Date of Death</th>\n",
       "      <th>Time to Death (days)</th>\n",
       "      <th>CT Date</th>\n",
       "      <th>Days between CT and surgery</th>\n",
       "      <th>PET Date</th>\n",
       "    </tr>\n",
       "  </thead>\n",
       "  <tbody>\n",
       "    <tr>\n",
       "      <td>206</td>\n",
       "      <td>R01-159</td>\n",
       "      <td>Stanford</td>\n",
       "      <td>75</td>\n",
       "      <td>184</td>\n",
       "      <td>Male</td>\n",
       "      <td>Caucasian</td>\n",
       "      <td>Former</td>\n",
       "      <td>55</td>\n",
       "      <td>1994.0</td>\n",
       "      <td>Not Assessed</td>\n",
       "      <td>...</td>\n",
       "      <td>no</td>\n",
       "      <td>NaN</td>\n",
       "      <td>NaN</td>\n",
       "      <td>7/13/1995</td>\n",
       "      <td>Alive</td>\n",
       "      <td>NaN</td>\n",
       "      <td>NaN</td>\n",
       "      <td>11/24/1994</td>\n",
       "      <td>14</td>\n",
       "      <td>11/16/1994</td>\n",
       "    </tr>\n",
       "    <tr>\n",
       "      <td>207</td>\n",
       "      <td>R01-160</td>\n",
       "      <td>VA</td>\n",
       "      <td>61</td>\n",
       "      <td>231.5</td>\n",
       "      <td>Male</td>\n",
       "      <td>Caucasian</td>\n",
       "      <td>Former</td>\n",
       "      <td>12</td>\n",
       "      <td>1993.0</td>\n",
       "      <td>Not Assessed</td>\n",
       "      <td>...</td>\n",
       "      <td>no</td>\n",
       "      <td>NaN</td>\n",
       "      <td>NaN</td>\n",
       "      <td>7/3/1999</td>\n",
       "      <td>Alive</td>\n",
       "      <td>NaN</td>\n",
       "      <td>NaN</td>\n",
       "      <td>8/12/1993</td>\n",
       "      <td>72</td>\n",
       "      <td>9/22/1993</td>\n",
       "    </tr>\n",
       "    <tr>\n",
       "      <td>208</td>\n",
       "      <td>R01-161</td>\n",
       "      <td>Stanford</td>\n",
       "      <td>52</td>\n",
       "      <td>Not Collected</td>\n",
       "      <td>Female</td>\n",
       "      <td>Caucasian</td>\n",
       "      <td>Former</td>\n",
       "      <td>7</td>\n",
       "      <td>NaN</td>\n",
       "      <td>Not Assessed</td>\n",
       "      <td>...</td>\n",
       "      <td>no</td>\n",
       "      <td>NaN</td>\n",
       "      <td>NaN</td>\n",
       "      <td>4/2/1999</td>\n",
       "      <td>Alive</td>\n",
       "      <td>NaN</td>\n",
       "      <td>NaN</td>\n",
       "      <td>12/13/1995</td>\n",
       "      <td>8</td>\n",
       "      <td>9/26/1995</td>\n",
       "    </tr>\n",
       "    <tr>\n",
       "      <td>209</td>\n",
       "      <td>R01-162</td>\n",
       "      <td>Stanford</td>\n",
       "      <td>67</td>\n",
       "      <td>158</td>\n",
       "      <td>Male</td>\n",
       "      <td>Asian</td>\n",
       "      <td>Former</td>\n",
       "      <td>15</td>\n",
       "      <td>1966.0</td>\n",
       "      <td>Not Assessed</td>\n",
       "      <td>...</td>\n",
       "      <td>no</td>\n",
       "      <td>NaN</td>\n",
       "      <td>NaN</td>\n",
       "      <td>10/8/1997</td>\n",
       "      <td>Dead</td>\n",
       "      <td>10/8/1997</td>\n",
       "      <td>671.0</td>\n",
       "      <td>10/3/1995</td>\n",
       "      <td>65</td>\n",
       "      <td>11/14/1995</td>\n",
       "    </tr>\n",
       "    <tr>\n",
       "      <td>210</td>\n",
       "      <td>R01-163</td>\n",
       "      <td>VA</td>\n",
       "      <td>68</td>\n",
       "      <td>229</td>\n",
       "      <td>Male</td>\n",
       "      <td>Caucasian</td>\n",
       "      <td>Current</td>\n",
       "      <td>30</td>\n",
       "      <td>NaN</td>\n",
       "      <td>Not Assessed</td>\n",
       "      <td>...</td>\n",
       "      <td>yes</td>\n",
       "      <td>distant</td>\n",
       "      <td>2/15/1996</td>\n",
       "      <td>1/11/1997</td>\n",
       "      <td>Dead</td>\n",
       "      <td>1/11/1997</td>\n",
       "      <td>462.0</td>\n",
       "      <td>8/17/1995</td>\n",
       "      <td>51</td>\n",
       "      <td>7/12/1995</td>\n",
       "    </tr>\n",
       "  </tbody>\n",
       "</table>\n",
       "<p>5 rows × 40 columns</p>\n",
       "</div>"
      ],
      "text/plain": [
       "     Case ID Patient affiliation  Age at Histological Diagnosis  \\\n",
       "206  R01-159            Stanford                             75   \n",
       "207  R01-160                  VA                             61   \n",
       "208  R01-161            Stanford                             52   \n",
       "209  R01-162            Stanford                             67   \n",
       "210  R01-163                  VA                             68   \n",
       "\n",
       "      Weight (lbs)  Gender  Ethnicity Smoking status Pack Years  \\\n",
       "206            184    Male  Caucasian         Former         55   \n",
       "207          231.5    Male  Caucasian         Former         12   \n",
       "208  Not Collected  Female  Caucasian         Former          7   \n",
       "209            158    Male      Asian         Former         15   \n",
       "210            229    Male  Caucasian        Current         30   \n",
       "\n",
       "     Quit Smoking Year           %GG  ... Recurrence Recurrence Location  \\\n",
       "206             1994.0  Not Assessed  ...         no                 NaN   \n",
       "207             1993.0  Not Assessed  ...         no                 NaN   \n",
       "208                NaN  Not Assessed  ...         no                 NaN   \n",
       "209             1966.0  Not Assessed  ...         no                 NaN   \n",
       "210                NaN  Not Assessed  ...        yes             distant   \n",
       "\n",
       "    Date of Recurrence Date of Last Known Alive Survival Status Date of Death  \\\n",
       "206                NaN                7/13/1995           Alive           NaN   \n",
       "207                NaN                 7/3/1999           Alive           NaN   \n",
       "208                NaN                 4/2/1999           Alive           NaN   \n",
       "209                NaN                10/8/1997            Dead     10/8/1997   \n",
       "210          2/15/1996                1/11/1997            Dead     1/11/1997   \n",
       "\n",
       "    Time to Death (days)     CT Date Days between CT and surgery    PET Date  \n",
       "206                  NaN  11/24/1994                          14  11/16/1994  \n",
       "207                  NaN   8/12/1993                          72   9/22/1993  \n",
       "208                  NaN  12/13/1995                           8   9/26/1995  \n",
       "209                671.0   10/3/1995                          65  11/14/1995  \n",
       "210                462.0   8/17/1995                          51   7/12/1995  \n",
       "\n",
       "[5 rows x 40 columns]"
      ]
     },
     "execution_count": 207,
     "metadata": {},
     "output_type": "execute_result"
    }
   ],
   "source": [
    "radiogenomics_labels_path = os.path.join(os.getcwd(), 'dataset', 'radiogenomics_labels.csv')\n",
    "radiogenomics_labels = pd.read_csv(radiogenomics_labels_path)\n",
    "radiogenomics_labels.tail()"
   ]
  },
  {
   "cell_type": "markdown",
   "metadata": {},
   "source": [
    "## Data Preprocessing"
   ]
  },
  {
   "cell_type": "code",
   "execution_count": 208,
   "metadata": {},
   "outputs": [],
   "source": [
    "pyradiomics_dataset['Case ID'] = None\n",
    "\n",
    "for i, image in enumerate(pyradiomics_dataset['Image']):\n",
    "    pyradiomics_dataset.loc[i, 'Case ID'] = image.split('.')[0]"
   ]
  },
  {
   "cell_type": "code",
   "execution_count": 209,
   "metadata": {},
   "outputs": [],
   "source": [
    "dataset = pd.merge(pyradiomics_dataset, radiogenomics_labels[['Case ID', 'Survival Status']], left_on='Case ID', right_on='Case ID', how='left')"
   ]
  },
  {
   "cell_type": "code",
   "execution_count": 210,
   "metadata": {},
   "outputs": [],
   "source": [
    "dataset.drop(['Mask', 'Image', 'Case ID'], axis=1, inplace=True)\n",
    "dataset.dropna(inplace=True)"
   ]
  },
  {
   "cell_type": "code",
   "execution_count": 211,
   "metadata": {},
   "outputs": [
    {
     "data": {
      "text/html": [
       "<div>\n",
       "<style scoped>\n",
       "    .dataframe tbody tr th:only-of-type {\n",
       "        vertical-align: middle;\n",
       "    }\n",
       "\n",
       "    .dataframe tbody tr th {\n",
       "        vertical-align: top;\n",
       "    }\n",
       "\n",
       "    .dataframe thead th {\n",
       "        text-align: right;\n",
       "    }\n",
       "</style>\n",
       "<table border=\"1\" class=\"dataframe\">\n",
       "  <thead>\n",
       "    <tr style=\"text-align: right;\">\n",
       "      <th></th>\n",
       "      <th>original_shape_VoxelVolume</th>\n",
       "      <th>original_shape_MeshVolume</th>\n",
       "      <th>original_shape_SurfaceArea</th>\n",
       "      <th>original_shape_SurfaceVolumeRatio</th>\n",
       "      <th>original_shape_Sphericity</th>\n",
       "      <th>original_shape_Maximum3DDiameter</th>\n",
       "      <th>original_shape_Maximum2DDiameterSlice</th>\n",
       "      <th>original_shape_Maximum2DDiameterColumn</th>\n",
       "      <th>original_shape_Maximum2DDiameterRow</th>\n",
       "      <th>original_shape_MajorAxisLength</th>\n",
       "      <th>...</th>\n",
       "      <th>lbp-3D-k_gldm_GrayLevelVariance</th>\n",
       "      <th>lbp-3D-k_gldm_HighGrayLevelEmphasis</th>\n",
       "      <th>lbp-3D-k_gldm_LargeDependenceEmphasis</th>\n",
       "      <th>lbp-3D-k_gldm_LargeDependenceHighGrayLevelEmphasis</th>\n",
       "      <th>lbp-3D-k_gldm_LargeDependenceLowGrayLevelEmphasis</th>\n",
       "      <th>lbp-3D-k_gldm_LowGrayLevelEmphasis</th>\n",
       "      <th>lbp-3D-k_gldm_SmallDependenceEmphasis</th>\n",
       "      <th>lbp-3D-k_gldm_SmallDependenceHighGrayLevelEmphasis</th>\n",
       "      <th>lbp-3D-k_gldm_SmallDependenceLowGrayLevelEmphasis</th>\n",
       "      <th>Survival Status</th>\n",
       "    </tr>\n",
       "  </thead>\n",
       "  <tbody>\n",
       "    <tr>\n",
       "      <td>0</td>\n",
       "      <td>6646.222923</td>\n",
       "      <td>6620.933051</td>\n",
       "      <td>3821.238084</td>\n",
       "      <td>0.577145</td>\n",
       "      <td>0.446231</td>\n",
       "      <td>42.351097</td>\n",
       "      <td>41.211769</td>\n",
       "      <td>38.654876</td>\n",
       "      <td>42.075213</td>\n",
       "      <td>28.771746</td>\n",
       "      <td>...</td>\n",
       "      <td>0.107344</td>\n",
       "      <td>1.366904</td>\n",
       "      <td>435.038264</td>\n",
       "      <td>447.886326</td>\n",
       "      <td>431.826248</td>\n",
       "      <td>0.908274</td>\n",
       "      <td>0.017466</td>\n",
       "      <td>0.060178</td>\n",
       "      <td>0.006788</td>\n",
       "      <td>Alive</td>\n",
       "    </tr>\n",
       "    <tr>\n",
       "      <td>1</td>\n",
       "      <td>3366.088867</td>\n",
       "      <td>3297.932943</td>\n",
       "      <td>1870.232366</td>\n",
       "      <td>0.567092</td>\n",
       "      <td>0.572906</td>\n",
       "      <td>52.086588</td>\n",
       "      <td>14.925760</td>\n",
       "      <td>51.939907</td>\n",
       "      <td>50.219246</td>\n",
       "      <td>49.321299</td>\n",
       "      <td>...</td>\n",
       "      <td>0.130997</td>\n",
       "      <td>1.465095</td>\n",
       "      <td>273.110607</td>\n",
       "      <td>297.173164</td>\n",
       "      <td>267.094968</td>\n",
       "      <td>0.883726</td>\n",
       "      <td>0.019400</td>\n",
       "      <td>0.065205</td>\n",
       "      <td>0.007949</td>\n",
       "      <td>Alive</td>\n",
       "    </tr>\n",
       "    <tr>\n",
       "      <td>2</td>\n",
       "      <td>154492.126465</td>\n",
       "      <td>153863.610586</td>\n",
       "      <td>29776.235984</td>\n",
       "      <td>0.193524</td>\n",
       "      <td>0.466342</td>\n",
       "      <td>148.169042</td>\n",
       "      <td>75.007242</td>\n",
       "      <td>146.583008</td>\n",
       "      <td>146.015102</td>\n",
       "      <td>144.590257</td>\n",
       "      <td>...</td>\n",
       "      <td>0.174788</td>\n",
       "      <td>1.677255</td>\n",
       "      <td>310.474449</td>\n",
       "      <td>365.343731</td>\n",
       "      <td>296.757129</td>\n",
       "      <td>0.830686</td>\n",
       "      <td>0.015801</td>\n",
       "      <td>0.051458</td>\n",
       "      <td>0.006886</td>\n",
       "      <td>Alive</td>\n",
       "    </tr>\n",
       "    <tr>\n",
       "      <td>3</td>\n",
       "      <td>707.652683</td>\n",
       "      <td>690.997678</td>\n",
       "      <td>1016.191502</td>\n",
       "      <td>1.470615</td>\n",
       "      <td>0.371957</td>\n",
       "      <td>32.898135</td>\n",
       "      <td>30.636614</td>\n",
       "      <td>26.940836</td>\n",
       "      <td>21.011030</td>\n",
       "      <td>23.222462</td>\n",
       "      <td>...</td>\n",
       "      <td>0.061102</td>\n",
       "      <td>1.196130</td>\n",
       "      <td>357.702929</td>\n",
       "      <td>361.049686</td>\n",
       "      <td>356.866240</td>\n",
       "      <td>0.950968</td>\n",
       "      <td>0.020960</td>\n",
       "      <td>0.064607</td>\n",
       "      <td>0.010049</td>\n",
       "      <td>Alive</td>\n",
       "    </tr>\n",
       "    <tr>\n",
       "      <td>4</td>\n",
       "      <td>4905.527134</td>\n",
       "      <td>4877.243809</td>\n",
       "      <td>2747.608401</td>\n",
       "      <td>0.563353</td>\n",
       "      <td>0.506188</td>\n",
       "      <td>47.004263</td>\n",
       "      <td>27.938821</td>\n",
       "      <td>30.427050</td>\n",
       "      <td>34.059646</td>\n",
       "      <td>35.852307</td>\n",
       "      <td>...</td>\n",
       "      <td>0.143750</td>\n",
       "      <td>1.522119</td>\n",
       "      <td>362.528292</td>\n",
       "      <td>419.715021</td>\n",
       "      <td>348.231610</td>\n",
       "      <td>0.869470</td>\n",
       "      <td>0.011873</td>\n",
       "      <td>0.038674</td>\n",
       "      <td>0.005173</td>\n",
       "      <td>Dead</td>\n",
       "    </tr>\n",
       "  </tbody>\n",
       "</table>\n",
       "<p>5 rows × 1563 columns</p>\n",
       "</div>"
      ],
      "text/plain": [
       "   original_shape_VoxelVolume  original_shape_MeshVolume  \\\n",
       "0                 6646.222923                6620.933051   \n",
       "1                 3366.088867                3297.932943   \n",
       "2               154492.126465              153863.610586   \n",
       "3                  707.652683                 690.997678   \n",
       "4                 4905.527134                4877.243809   \n",
       "\n",
       "   original_shape_SurfaceArea  original_shape_SurfaceVolumeRatio  \\\n",
       "0                 3821.238084                           0.577145   \n",
       "1                 1870.232366                           0.567092   \n",
       "2                29776.235984                           0.193524   \n",
       "3                 1016.191502                           1.470615   \n",
       "4                 2747.608401                           0.563353   \n",
       "\n",
       "   original_shape_Sphericity  original_shape_Maximum3DDiameter  \\\n",
       "0                   0.446231                         42.351097   \n",
       "1                   0.572906                         52.086588   \n",
       "2                   0.466342                        148.169042   \n",
       "3                   0.371957                         32.898135   \n",
       "4                   0.506188                         47.004263   \n",
       "\n",
       "   original_shape_Maximum2DDiameterSlice  \\\n",
       "0                              41.211769   \n",
       "1                              14.925760   \n",
       "2                              75.007242   \n",
       "3                              30.636614   \n",
       "4                              27.938821   \n",
       "\n",
       "   original_shape_Maximum2DDiameterColumn  \\\n",
       "0                               38.654876   \n",
       "1                               51.939907   \n",
       "2                              146.583008   \n",
       "3                               26.940836   \n",
       "4                               30.427050   \n",
       "\n",
       "   original_shape_Maximum2DDiameterRow  original_shape_MajorAxisLength  ...  \\\n",
       "0                            42.075213                       28.771746  ...   \n",
       "1                            50.219246                       49.321299  ...   \n",
       "2                           146.015102                      144.590257  ...   \n",
       "3                            21.011030                       23.222462  ...   \n",
       "4                            34.059646                       35.852307  ...   \n",
       "\n",
       "   lbp-3D-k_gldm_GrayLevelVariance  lbp-3D-k_gldm_HighGrayLevelEmphasis  \\\n",
       "0                         0.107344                             1.366904   \n",
       "1                         0.130997                             1.465095   \n",
       "2                         0.174788                             1.677255   \n",
       "3                         0.061102                             1.196130   \n",
       "4                         0.143750                             1.522119   \n",
       "\n",
       "   lbp-3D-k_gldm_LargeDependenceEmphasis  \\\n",
       "0                             435.038264   \n",
       "1                             273.110607   \n",
       "2                             310.474449   \n",
       "3                             357.702929   \n",
       "4                             362.528292   \n",
       "\n",
       "   lbp-3D-k_gldm_LargeDependenceHighGrayLevelEmphasis  \\\n",
       "0                                         447.886326    \n",
       "1                                         297.173164    \n",
       "2                                         365.343731    \n",
       "3                                         361.049686    \n",
       "4                                         419.715021    \n",
       "\n",
       "   lbp-3D-k_gldm_LargeDependenceLowGrayLevelEmphasis  \\\n",
       "0                                         431.826248   \n",
       "1                                         267.094968   \n",
       "2                                         296.757129   \n",
       "3                                         356.866240   \n",
       "4                                         348.231610   \n",
       "\n",
       "   lbp-3D-k_gldm_LowGrayLevelEmphasis  lbp-3D-k_gldm_SmallDependenceEmphasis  \\\n",
       "0                            0.908274                               0.017466   \n",
       "1                            0.883726                               0.019400   \n",
       "2                            0.830686                               0.015801   \n",
       "3                            0.950968                               0.020960   \n",
       "4                            0.869470                               0.011873   \n",
       "\n",
       "   lbp-3D-k_gldm_SmallDependenceHighGrayLevelEmphasis  \\\n",
       "0                                           0.060178    \n",
       "1                                           0.065205    \n",
       "2                                           0.051458    \n",
       "3                                           0.064607    \n",
       "4                                           0.038674    \n",
       "\n",
       "   lbp-3D-k_gldm_SmallDependenceLowGrayLevelEmphasis  Survival Status  \n",
       "0                                           0.006788            Alive  \n",
       "1                                           0.007949            Alive  \n",
       "2                                           0.006886            Alive  \n",
       "3                                           0.010049            Alive  \n",
       "4                                           0.005173             Dead  \n",
       "\n",
       "[5 rows x 1563 columns]"
      ]
     },
     "execution_count": 211,
     "metadata": {},
     "output_type": "execute_result"
    }
   ],
   "source": [
    "dataset.head()"
   ]
  },
  {
   "cell_type": "code",
   "execution_count": 212,
   "metadata": {},
   "outputs": [],
   "source": [
    "X = dataset.iloc[:, :-1]\n",
    "y = dataset.iloc[:, -1]"
   ]
  },
  {
   "cell_type": "code",
   "execution_count": 213,
   "metadata": {},
   "outputs": [],
   "source": [
    "y.replace({'Alive': 1, 'Dead': 0}, inplace=True)"
   ]
  },
  {
   "cell_type": "code",
   "execution_count": 214,
   "metadata": {},
   "outputs": [
    {
     "data": {
      "text/plain": [
       "array([[0.00427518, 0.00426526, 0.02317787, ..., 0.49312589, 0.51965444,\n",
       "        0.3411778 ],\n",
       "       [0.00206953, 0.00202958, 0.01033367, ..., 0.59914555, 0.59089235,\n",
       "        0.48988226],\n",
       "       [0.10369073, 0.10332855, 0.19404933, ..., 0.40182731, 0.39609946,\n",
       "        0.35375796],\n",
       "       ...,\n",
       "       [0.34380234, 0.34347954, 0.36091841, ..., 0.11286225, 0.15153591,\n",
       "        0.06239028],\n",
       "       [0.01118434, 0.01107761, 0.03753623, ..., 0.74163153, 0.71603   ,\n",
       "        0.62327651],\n",
       "       [0.00267366, 0.00266141, 0.01840232, ..., 0.12419842, 0.13923837,\n",
       "        0.12331212]])"
      ]
     },
     "execution_count": 214,
     "metadata": {},
     "output_type": "execute_result"
    }
   ],
   "source": [
    "X = MinMaxScaler().fit_transform(X.astype('float64'))\n",
    "X.shape\n",
    "X"
   ]
  },
  {
   "cell_type": "code",
   "execution_count": 215,
   "metadata": {},
   "outputs": [],
   "source": [
    "X_train, X_test, y_train, y_test = train_test_split(X, y, test_size=0.33, random_state=42)"
   ]
  },
  {
   "cell_type": "markdown",
   "metadata": {},
   "source": [
    "## Model Building"
   ]
  },
  {
   "cell_type": "markdown",
   "metadata": {},
   "source": [
    "### Decision Tree Classifier"
   ]
  },
  {
   "cell_type": "code",
   "execution_count": 145,
   "metadata": {},
   "outputs": [],
   "source": [
    "from sklearn.tree import DecisionTreeClassifier\n",
    "\n",
    "tree_clf = DecisionTreeClassifier()"
   ]
  },
  {
   "cell_type": "code",
   "execution_count": 146,
   "metadata": {},
   "outputs": [
    {
     "name": "stdout",
     "output_type": "stream",
     "text": [
      "Accuracy: 0.62 (+/- 0.35)\n"
     ]
    }
   ],
   "source": [
    "scores = cross_val_score(tree_clf, X_train, y_train, scoring=\"accuracy\", cv=10)\n",
    "print(\"Accuracy: %0.2f (+/- %0.2f)\" % (scores.mean(), scores.std() * 2))"
   ]
  },
  {
   "cell_type": "markdown",
   "metadata": {},
   "source": [
    "## Random Forest Classifier"
   ]
  },
  {
   "cell_type": "code",
   "execution_count": 147,
   "metadata": {},
   "outputs": [],
   "source": [
    "from sklearn.ensemble import RandomForestClassifier\n",
    "\n",
    "random_forest_clf = RandomForestClassifier(n_estimators=100)"
   ]
  },
  {
   "cell_type": "code",
   "execution_count": 148,
   "metadata": {},
   "outputs": [
    {
     "name": "stdout",
     "output_type": "stream",
     "text": [
      "Accuracy: 0.50 (+/- 0.28)\n"
     ]
    }
   ],
   "source": [
    "scores = cross_val_score(random_forest_clf, X_train, y_train, scoring=\"accuracy\", cv=10)\n",
    "print(\"Accuracy: %0.2f (+/- %0.2f)\" % (scores.mean(), scores.std() * 2))"
   ]
  },
  {
   "cell_type": "markdown",
   "metadata": {},
   "source": [
    "## XGBoost"
   ]
  },
  {
   "cell_type": "code",
   "execution_count": 149,
   "metadata": {},
   "outputs": [],
   "source": [
    "from xgboost import XGBClassifier\n",
    "\n",
    "xgb_clf = XGBClassifier()"
   ]
  },
  {
   "cell_type": "code",
   "execution_count": 150,
   "metadata": {},
   "outputs": [
    {
     "name": "stdout",
     "output_type": "stream",
     "text": [
      "Accuracy: 0.64 (+/- 0.38)\n"
     ]
    }
   ],
   "source": [
    "scores = cross_val_score(xgb_clf, X_train, y_train, scoring=\"accuracy\", cv=10)\n",
    "print(\"Accuracy: %0.2f (+/- %0.2f)\" % (scores.mean(), scores.std() * 2))"
   ]
  },
  {
   "cell_type": "markdown",
   "metadata": {},
   "source": [
    "## GaussianNB Classifier"
   ]
  },
  {
   "cell_type": "code",
   "execution_count": 101,
   "metadata": {},
   "outputs": [],
   "source": [
    "from sklearn.naive_bayes import GaussianNB\n",
    "\n",
    "gnb_clf = GaussianNB()"
   ]
  },
  {
   "cell_type": "code",
   "execution_count": 102,
   "metadata": {},
   "outputs": [
    {
     "name": "stdout",
     "output_type": "stream",
     "text": [
      "Accuracy: 0.55 (+/- 0.24)\n"
     ]
    }
   ],
   "source": [
    "scores = cross_val_score(gnb_clf, X_train, y_train, scoring=\"accuracy\", cv=10)\n",
    "print(\"Accuracy: %0.2f (+/- %0.2f)\" % (scores.mean(), scores.std() * 2))"
   ]
  },
  {
   "cell_type": "markdown",
   "metadata": {},
   "source": [
    "## SVM Classifier"
   ]
  },
  {
   "cell_type": "code",
   "execution_count": 106,
   "metadata": {},
   "outputs": [],
   "source": [
    "from sklearn.svm import SVC\n",
    "\n",
    "svc_clf = SVC(gamma='scale')"
   ]
  },
  {
   "cell_type": "code",
   "execution_count": 107,
   "metadata": {},
   "outputs": [
    {
     "name": "stdout",
     "output_type": "stream",
     "text": [
      "Accuracy: 0.58 (+/- 0.25)\n"
     ]
    }
   ],
   "source": [
    "scores = cross_val_score(svc_clf, X_train, y_train, scoring=\"accuracy\", cv=10)\n",
    "print(\"Accuracy: %0.2f (+/- %0.2f)\" % (scores.mean(), scores.std() * 2))"
   ]
  },
  {
   "cell_type": "markdown",
   "metadata": {},
   "source": [
    "## AdaBoost Classifier"
   ]
  },
  {
   "cell_type": "code",
   "execution_count": 108,
   "metadata": {},
   "outputs": [],
   "source": [
    "from sklearn.ensemble import AdaBoostClassifier\n",
    "\n",
    "ada_clf = AdaBoostClassifier()"
   ]
  },
  {
   "cell_type": "code",
   "execution_count": 109,
   "metadata": {},
   "outputs": [
    {
     "name": "stdout",
     "output_type": "stream",
     "text": [
      "Accuracy: 0.67 (+/- 0.35)\n"
     ]
    }
   ],
   "source": [
    "scores = cross_val_score(ada_clf, X_train, y_train, scoring=\"accuracy\", cv=10)\n",
    "print(\"Accuracy: %0.2f (+/- %0.2f)\" % (scores.mean(), scores.std() * 2))"
   ]
  },
  {
   "cell_type": "markdown",
   "metadata": {},
   "source": [
    "## KNeighbors Classifier"
   ]
  },
  {
   "cell_type": "code",
   "execution_count": 111,
   "metadata": {},
   "outputs": [],
   "source": [
    "from sklearn.neighbors import KNeighborsClassifier\n",
    "\n",
    "kn_clf = KNeighborsClassifier()"
   ]
  },
  {
   "cell_type": "code",
   "execution_count": 112,
   "metadata": {},
   "outputs": [
    {
     "name": "stdout",
     "output_type": "stream",
     "text": [
      "Accuracy: 0.55 (+/- 0.36)\n"
     ]
    }
   ],
   "source": [
    "scores = cross_val_score(kn_clf, X_train, y_train, scoring=\"accuracy\", cv=10)\n",
    "print(\"Accuracy: %0.2f (+/- %0.2f)\" % (scores.mean(), scores.std() * 2))"
   ]
  },
  {
   "cell_type": "markdown",
   "metadata": {},
   "source": [
    "## Gaussian Process Classifier"
   ]
  },
  {
   "cell_type": "code",
   "execution_count": 202,
   "metadata": {},
   "outputs": [],
   "source": [
    "from sklearn.gaussian_process import GaussianProcessClassifier\n",
    "\n",
    "gaussian_clf = GaussianProcessClassifier()"
   ]
  },
  {
   "cell_type": "code",
   "execution_count": 216,
   "metadata": {},
   "outputs": [
    {
     "name": "stdout",
     "output_type": "stream",
     "text": [
      "Accuracy: 0.58 (+/- 0.22)\n"
     ]
    }
   ],
   "source": [
    "scores = cross_val_score(gaussian_clf, X_train, y_train, scoring=\"accuracy\", cv=10)\n",
    "print(\"Accuracy: %0.2f (+/- %0.2f)\" % (scores.mean(), scores.std() * 2))"
   ]
  },
  {
   "cell_type": "markdown",
   "metadata": {},
   "source": [
    "## SelectKBest"
   ]
  },
  {
   "cell_type": "code",
   "execution_count": 217,
   "metadata": {},
   "outputs": [
    {
     "data": {
      "text/plain": [
       "(94, 1562)"
      ]
     },
     "execution_count": 217,
     "metadata": {},
     "output_type": "execute_result"
    }
   ],
   "source": [
    "from sklearn.feature_selection import SelectKBest, chi2\n",
    "X_train.shape"
   ]
  },
  {
   "cell_type": "code",
   "execution_count": 229,
   "metadata": {},
   "outputs": [
    {
     "data": {
      "text/plain": [
       "(94, 20)"
      ]
     },
     "execution_count": 229,
     "metadata": {},
     "output_type": "execute_result"
    }
   ],
   "source": [
    "X_new = SelectKBest(chi2, k=20).fit_transform(X_train, y_train)\n",
    "X_new.shape"
   ]
  },
  {
   "cell_type": "code",
   "execution_count": 230,
   "metadata": {},
   "outputs": [
    {
     "name": "stdout",
     "output_type": "stream",
     "text": [
      "Accuracy: 0.67 (+/- 0.26)\n"
     ]
    }
   ],
   "source": [
    "final_clf = XGBClassifier()\n",
    "scores = cross_val_score(final_clf, X_new, y_train, scoring=\"accuracy\", cv=10)\n",
    "print(\"Accuracy: %0.2f (+/- %0.2f)\" % (scores.mean(), scores.std() * 2))"
   ]
  },
  {
   "cell_type": "code",
   "execution_count": null,
   "metadata": {},
   "outputs": [],
   "source": []
  }
 ],
 "metadata": {
  "kernelspec": {
   "display_name": "Python 3",
   "language": "python",
   "name": "python3"
  },
  "language_info": {
   "codemirror_mode": {
    "name": "ipython",
    "version": 3
   },
   "file_extension": ".py",
   "mimetype": "text/x-python",
   "name": "python",
   "nbconvert_exporter": "python",
   "pygments_lexer": "ipython3",
   "version": "3.7.6"
  }
 },
 "nbformat": 4,
 "nbformat_minor": 2
}
